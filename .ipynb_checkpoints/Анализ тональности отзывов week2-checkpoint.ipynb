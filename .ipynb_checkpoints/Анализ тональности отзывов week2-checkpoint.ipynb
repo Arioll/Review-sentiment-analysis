{
 "cells": [
  {
   "cell_type": "code",
   "execution_count": 17,
   "metadata": {
    "collapsed": true
   },
   "outputs": [],
   "source": [
    "import numpy as np\n",
    "import pandas as pd\n",
    "from nltk.corpus import movie_reviews\n",
    "from sklearn.feature_extraction.text import CountVectorizer, TfidfVectorizer"
   ]
  },
  {
   "cell_type": "code",
   "execution_count": 4,
   "metadata": {},
   "outputs": [],
   "source": [
    "pos = movie_reviews.fileids('pos')\n",
    "neg = movie_reviews.fileids('neg') "
   ]
  },
  {
   "cell_type": "code",
   "execution_count": 12,
   "metadata": {
    "collapsed": true
   },
   "outputs": [],
   "source": [
    "data = np.concatenate((np.array([' '.join([j for j in movie_reviews.words(fileids=[i])]) for i in neg]), \n",
    "                       np.array([' '.join([j for j in movie_reviews.words(fileids=[i])]) for i in pos])))\n",
    "data_labels = np.array([[0] for _ in neg] + [[1] for _ in pos])"
   ]
  },
  {
   "cell_type": "code",
   "execution_count": 21,
   "metadata": {},
   "outputs": [],
   "source": [
    "from sklearn.pipeline import Pipeline\n",
    "from sklearn.linear_model import LogisticRegression, SGDClassifier\n",
    "from sklearn.svm import LinearSVC\n",
    "from sklearn.model_selection import cross_val_score"
   ]
  },
  {
   "cell_type": "code",
   "execution_count": 16,
   "metadata": {},
   "outputs": [
    {
     "name": "stdout",
     "output_type": "stream",
     "text": [
      "0.8415000000000001\n",
      "0.01677796173556255\n"
     ]
    }
   ],
   "source": [
    "LR = LogisticRegression()\n",
    "v = CountVectorizer()\n",
    "pl = Pipeline([('vect', v), ('log_reg', LR)])\n",
    "print(cross_val_score(pl, data, data_labels.ravel(), cv=5, scoring='accuracy').mean())\n",
    "print(cross_val_score(pl, data, data_labels.ravel(), cv=5, scoring='accuracy').std())"
   ]
  },
  {
   "cell_type": "code",
   "execution_count": 18,
   "metadata": {},
   "outputs": [
    {
     "name": "stdout",
     "output_type": "stream",
     "text": [
      "0.8210000000000001\n",
      "0.004062019202317978\n"
     ]
    }
   ],
   "source": [
    "LR2 = LogisticRegression()\n",
    "v2 =  TfidfVectorizer()\n",
    "pl2 = Pipeline([('vect', v2), ('log_reg', LR2)])\n",
    "print(cross_val_score(pl2, data, data_labels.ravel(), cv=5, scoring='accuracy').mean())\n",
    "print(cross_val_score(pl2, data, data_labels.ravel(), cv=5, scoring='accuracy').std())"
   ]
  },
  {
   "cell_type": "code",
   "execution_count": 19,
   "metadata": {},
   "outputs": [
    {
     "name": "stdout",
     "output_type": "stream",
     "text": [
      "0.8390000000000001\n",
      "0.813\n"
     ]
    }
   ],
   "source": [
    "for i in [10, 50]:\n",
    "    LR3 = LogisticRegression()\n",
    "    v3 = CountVectorizer(min_df=i)\n",
    "    pl3 = Pipeline([('vect', v3), ('log_reg', LR3)])\n",
    "    print(cross_val_score(pl3, data, data_labels.ravel(), cv=5, scoring='accuracy').mean())"
   ]
  },
  {
   "cell_type": "code",
   "execution_count": 32,
   "metadata": {},
   "outputs": [
    {
     "name": "stdout",
     "output_type": "stream",
     "text": [
      "0.8415000000000001\n",
      "0.8325000000000001\n"
     ]
    },
    {
     "name": "stderr",
     "output_type": "stream",
     "text": [
      "E:\\Anaconda\\lib\\site-packages\\sklearn\\linear_model\\stochastic_gradient.py:128: FutureWarning: max_iter and tol parameters have been added in <class 'sklearn.linear_model.stochastic_gradient.SGDClassifier'> in 0.19. If both are left unset, they default to max_iter=5 and tol=None. If tol is not None, max_iter defaults to max_iter=1000. From 0.21, default max_iter will be 1000, and default tol will be 1e-3.\n",
      "  \"and default tol will be 1e-3.\" % type(self), FutureWarning)\n",
      "E:\\Anaconda\\lib\\site-packages\\sklearn\\linear_model\\stochastic_gradient.py:128: FutureWarning: max_iter and tol parameters have been added in <class 'sklearn.linear_model.stochastic_gradient.SGDClassifier'> in 0.19. If both are left unset, they default to max_iter=5 and tol=None. If tol is not None, max_iter defaults to max_iter=1000. From 0.21, default max_iter will be 1000, and default tol will be 1e-3.\n",
      "  \"and default tol will be 1e-3.\" % type(self), FutureWarning)\n",
      "E:\\Anaconda\\lib\\site-packages\\sklearn\\linear_model\\stochastic_gradient.py:128: FutureWarning: max_iter and tol parameters have been added in <class 'sklearn.linear_model.stochastic_gradient.SGDClassifier'> in 0.19. If both are left unset, they default to max_iter=5 and tol=None. If tol is not None, max_iter defaults to max_iter=1000. From 0.21, default max_iter will be 1000, and default tol will be 1e-3.\n",
      "  \"and default tol will be 1e-3.\" % type(self), FutureWarning)\n",
      "E:\\Anaconda\\lib\\site-packages\\sklearn\\linear_model\\stochastic_gradient.py:128: FutureWarning: max_iter and tol parameters have been added in <class 'sklearn.linear_model.stochastic_gradient.SGDClassifier'> in 0.19. If both are left unset, they default to max_iter=5 and tol=None. If tol is not None, max_iter defaults to max_iter=1000. From 0.21, default max_iter will be 1000, and default tol will be 1e-3.\n",
      "  \"and default tol will be 1e-3.\" % type(self), FutureWarning)\n",
      "E:\\Anaconda\\lib\\site-packages\\sklearn\\linear_model\\stochastic_gradient.py:128: FutureWarning: max_iter and tol parameters have been added in <class 'sklearn.linear_model.stochastic_gradient.SGDClassifier'> in 0.19. If both are left unset, they default to max_iter=5 and tol=None. If tol is not None, max_iter defaults to max_iter=1000. From 0.21, default max_iter will be 1000, and default tol will be 1e-3.\n",
      "  \"and default tol will be 1e-3.\" % type(self), FutureWarning)\n"
     ]
    },
    {
     "name": "stdout",
     "output_type": "stream",
     "text": [
      "0.7669999999999999\n"
     ]
    }
   ],
   "source": [
    "arr = [LogisticRegression(), LinearSVC(), SGDClassifier()]\n",
    "for model in arr:\n",
    "    v4 = CountVectorizer()\n",
    "    pl4 = Pipeline([('vect', v4), ('model', model)])\n",
    "    print(cross_val_score(pl4, data, data_labels.ravel(), cv=5, scoring='accuracy').mean())"
   ]
  },
  {
   "cell_type": "code",
   "execution_count": 26,
   "metadata": {},
   "outputs": [
    {
     "name": "stdout",
     "output_type": "stream",
     "text": [
      "0.841\n",
      "0.8385\n"
     ]
    }
   ],
   "source": [
    "import nltk\n",
    "stop = nltk.corpus.stopwords.words('english')\n",
    "v5 = CountVectorizer(stop_words=stop)\n",
    "pl5 = Pipeline([('vect', v5), ('model', LogisticRegression())])\n",
    "print(cross_val_score(pl5, data, data_labels.ravel(), cv=5, scoring='accuracy').mean())\n",
    "\n",
    "v5 = CountVectorizer(stop_words='english')\n",
    "pl5 = Pipeline([('vect', v5), ('model', LogisticRegression())])\n",
    "print(cross_val_score(pl5, data, data_labels.ravel(), cv=5, scoring='accuracy').mean())"
   ]
  },
  {
   "cell_type": "code",
   "execution_count": 31,
   "metadata": {},
   "outputs": [
    {
     "name": "stdout",
     "output_type": "stream",
     "text": [
      "0.8525\n",
      "0.82\n"
     ]
    }
   ],
   "source": [
    "v6 = CountVectorizer(ngram_range=(1, 2))\n",
    "pl6 = Pipeline([('vect', v6), ('model', LogisticRegression())])\n",
    "print(cross_val_score(pl6, data, data_labels.ravel(), cv=5, scoring='accuracy').mean())\n",
    "\n",
    "v6 = CountVectorizer(ngram_range=(3, 5), analyzer='char_wb')\n",
    "pl6 = Pipeline([('vect', v6), ('model', LogisticRegression())])\n",
    "print(cross_val_score(pl6, data, data_labels.ravel(), cv=5, scoring='accuracy').mean())"
   ]
  },
  {
   "cell_type": "code",
   "execution_count": null,
   "metadata": {
    "collapsed": true
   },
   "outputs": [],
   "source": []
  }
 ],
 "metadata": {
  "kernelspec": {
   "display_name": "Python 3",
   "language": "python",
   "name": "python3"
  },
  "language_info": {
   "codemirror_mode": {
    "name": "ipython",
    "version": 3
   },
   "file_extension": ".py",
   "mimetype": "text/x-python",
   "name": "python",
   "nbconvert_exporter": "python",
   "pygments_lexer": "ipython3",
   "version": "3.6.3"
  }
 },
 "nbformat": 4,
 "nbformat_minor": 2
}
