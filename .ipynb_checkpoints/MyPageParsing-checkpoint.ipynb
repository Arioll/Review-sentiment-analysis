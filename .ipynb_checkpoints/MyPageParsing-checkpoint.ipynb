{
 "cells": [
  {
   "cell_type": "code",
   "execution_count": 3,
   "metadata": {
    "collapsed": true
   },
   "outputs": [],
   "source": [
    "import numpy as np\n",
    "import bs4\n",
    "import requests"
   ]
  },
  {
   "cell_type": "code",
   "execution_count": 14,
   "metadata": {},
   "outputs": [
    {
     "data": {
      "text/plain": [
       "['Why use F#?', 'Explore this site', 'Videos', 'Books', 'Search']"
      ]
     },
     "execution_count": 14,
     "metadata": {},
     "output_type": "execute_result"
    }
   ],
   "source": [
    "#2 В качестве страницы для экспериментов я выбрал http://fsharpforfunandprofit.com/. \n",
    "#Допустим мне нужны все элементы из панели хедера\n",
    "page = requests.get('http://fsharpforfunandprofit.com')\n",
    "parser = bs4.BeautifulSoup(page.text, 'lxml')\n",
    "header = parser.find('ul', attrs={'class':'nav navbar-nav'})\n",
    "elements = [i.text for i in header.findAll('li')]\n",
    "elements"
   ]
  },
  {
   "cell_type": "code",
   "execution_count": 12,
   "metadata": {},
   "outputs": [
    {
     "data": {
      "text/plain": [
       "['Bias–variance tradeoff']"
      ]
     },
     "execution_count": 12,
     "metadata": {},
     "output_type": "execute_result"
    }
   ],
   "source": [
    "#3.1 Вытаскиваем все заголовки 3 уровня. Он всего один\n",
    "page = requests.get('https://en.wikipedia.org/wiki/Bias-variance_tradeoff')\n",
    "parser = bs4.BeautifulSoup(page.text, 'lxml')\n",
    "h1s = [i.text for i in parser.findAll('h1')]\n",
    "h1s"
   ]
  },
  {
   "cell_type": "code",
   "execution_count": 18,
   "metadata": {},
   "outputs": [
    {
     "data": {
      "text/plain": [
       "['Algorithms of Oppression',\n",
       " 'Almeida–Pineda recurrent backpropagation',\n",
       " 'Backpropagation',\n",
       " 'Bootstrap aggregating',\n",
       " 'CN2 algorithm',\n",
       " 'Constructing skill trees',\n",
       " 'Dehaene–Changeux model',\n",
       " 'Diffusion map',\n",
       " 'Dominance-based rough set approach',\n",
       " 'Dynamic time warping',\n",
       " 'Error-driven learning',\n",
       " 'Evolutionary multimodal optimization',\n",
       " 'Expectation–maximization algorithm',\n",
       " 'FastICA',\n",
       " 'Forward–backward algorithm',\n",
       " 'GeneRec',\n",
       " 'Genetic Algorithm for Rule Set Production',\n",
       " 'Growing self-organizing map',\n",
       " 'HEXQ',\n",
       " 'Hyper basis function network',\n",
       " 'IDistance',\n",
       " 'K-nearest neighbors algorithm',\n",
       " 'Kernel methods for vector output',\n",
       " 'Kernel principal component analysis',\n",
       " 'Leabra',\n",
       " 'Linde–Buzo–Gray algorithm',\n",
       " 'Local outlier factor',\n",
       " 'Logic learning machine',\n",
       " 'LogitBoost',\n",
       " 'Loss functions for classification',\n",
       " 'Manifold alignment',\n",
       " 'Minimum redundancy feature selection',\n",
       " 'Mixture of experts',\n",
       " 'Multiple kernel learning',\n",
       " 'Non-negative matrix factorization',\n",
       " 'Online machine learning',\n",
       " 'Out-of-bag error',\n",
       " 'Prefrontal cortex basal ganglia working memory',\n",
       " 'PVLV',\n",
       " 'Q-learning',\n",
       " 'Quadratic unconstrained binary optimization',\n",
       " 'Query-level feature',\n",
       " 'Quickprop',\n",
       " 'Radial basis function network',\n",
       " 'Randomized weighted majority algorithm',\n",
       " 'Reinforcement learning',\n",
       " 'Repeated incremental pruning to produce error reduction (RIPPER)',\n",
       " 'Rprop',\n",
       " 'Rule-based machine learning',\n",
       " 'Skill chaining',\n",
       " 'Sparse PCA',\n",
       " 'State–action–reward–state–action',\n",
       " 'Stochastic gradient descent',\n",
       " 'Structured kNN',\n",
       " 'T-distributed stochastic neighbor embedding',\n",
       " 'Temporal difference learning',\n",
       " 'Wake-sleep algorithm',\n",
       " 'Weighted majority algorithm (machine learning)']"
      ]
     },
     "execution_count": 18,
     "metadata": {},
     "output_type": "execute_result"
    }
   ],
   "source": [
    "#3.2 Вытащить со страницы все названия статей по теме Machine Learning Algorithms\n",
    "page = requests.get('https://en.wikipedia.org/wiki/Category:Machine_learning_algorithms')\n",
    "parser = bs4.BeautifulSoup(page.text, 'lxml')\n",
    "divs = parser.findAll('div', attrs={'class':'mw-category-group'})\n",
    "names = [i.text for j in divs for i in j.findAll('a')]\n",
    "names"
   ]
  },
  {
   "cell_type": "code",
   "execution_count": null,
   "metadata": {
    "collapsed": true
   },
   "outputs": [],
   "source": []
  }
 ],
 "metadata": {
  "kernelspec": {
   "display_name": "Python 3",
   "language": "python",
   "name": "python3"
  },
  "language_info": {
   "codemirror_mode": {
    "name": "ipython",
    "version": 3
   },
   "file_extension": ".py",
   "mimetype": "text/x-python",
   "name": "python",
   "nbconvert_exporter": "python",
   "pygments_lexer": "ipython3",
   "version": "3.6.3"
  }
 },
 "nbformat": 4,
 "nbformat_minor": 2
}
